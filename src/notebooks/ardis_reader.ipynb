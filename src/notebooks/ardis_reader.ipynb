{
 "metadata": {
  "language_info": {
   "codemirror_mode": {
    "name": "ipython",
    "version": 3
   },
   "file_extension": ".py",
   "mimetype": "text/x-python",
   "name": "python",
   "nbconvert_exporter": "python",
   "pygments_lexer": "ipython3",
   "version": "3.8.5"
  },
  "orig_nbformat": 2,
  "kernelspec": {
   "name": "pythonjvsc74a57bd071f3d0049937cc818ce2f9b352ba946595cd1ac61856b9bde9007f94463dcc87",
   "display_name": "Python 3.8.5  ('.venv': venv)"
  },
  "metadata": {
   "interpreter": {
    "hash": "71f3d0049937cc818ce2f9b352ba946595cd1ac61856b9bde9007f94463dcc87"
   }
  }
 },
 "nbformat": 4,
 "nbformat_minor": 2,
 "cells": [
  {
   "cell_type": "code",
   "execution_count": 1,
   "metadata": {},
   "outputs": [],
   "source": [
    "import os\n",
    "import pandas as pd\n",
    "from glob import glob\n",
    "from pathlib import Path"
   ]
  },
  {
   "cell_type": "code",
   "execution_count": 29,
   "metadata": {},
   "outputs": [],
   "source": [
    "df = pd.read_csv('/home/erik/Riksarkivet/Projects/handwritten-text-recognition/raw/ardis/binarized/Part_I_gt.txt', index_col = 0, dtype=str, names=['name', 'gt'], delim_whitespace=True)"
   ]
  },
  {
   "cell_type": "code",
   "execution_count": 3,
   "metadata": {
    "tags": []
   },
   "outputs": [],
   "source": [
    "gt_parts = glob(os.path.join('/home/erik/Riksarkivet/Projects/handwritten-text-recognition/raw/ardis/binarized', '*.txt'))\n",
    "gt_parts.sort()\n",
    "parts = glob(os.path.join('/home/erik/Riksarkivet/Projects/handwritten-text-recognition/raw/ardis/original', '*/'))\n",
    "parts.sort(reverse=True)\n",
    "\n",
    "i = 0\n",
    "\n",
    "for gt_p, part in zip(gt_parts, parts):\n",
    "\n",
    "    df = pd.read_csv(gt_p, index_col = 0, dtype=str, names=['name', 'gt'], delim_whitespace=True)\n",
    "    imgs = glob(os.path.join(part, '**'))\n",
    "    \n",
    "    for img in imgs:\n",
    "        img_name = Path(img).name\n",
    "        try:\n",
    "            gt = df.loc[img_name]['gt']\n",
    "        except:\n",
    "            print('hej')\n",
    "    \n",
    "    \n",
    "\n"
   ]
  },
  {
   "cell_type": "code",
   "execution_count": null,
   "metadata": {},
   "outputs": [],
   "source": []
  }
 ]
}