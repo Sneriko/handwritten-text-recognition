{
 "metadata": {
  "language_info": {
   "codemirror_mode": {
    "name": "ipython",
    "version": 3
   },
   "file_extension": ".py",
   "mimetype": "text/x-python",
   "name": "python",
   "nbconvert_exporter": "python",
   "pygments_lexer": "ipython3",
   "version": "3.8.5"
  },
  "orig_nbformat": 2,
  "kernelspec": {
   "name": "pythonjvsc74a57bd071f3d0049937cc818ce2f9b352ba946595cd1ac61856b9bde9007f94463dcc87",
   "display_name": "Python 3.8.5  ('.venv': venv)"
  },
  "metadata": {
   "interpreter": {
    "hash": "71f3d0049937cc818ce2f9b352ba946595cd1ac61856b9bde9007f94463dcc87"
   }
  }
 },
 "nbformat": 4,
 "nbformat_minor": 2,
 "cells": [
  {
   "cell_type": "code",
   "execution_count": 4,
   "metadata": {},
   "outputs": [],
   "source": [
    "import os\n",
    "from glob import glob\n",
    "import pandas as pd\n",
    "from pathlib import Path"
   ]
  },
  {
   "cell_type": "code",
   "execution_count": 5,
   "metadata": {},
   "outputs": [],
   "source": [
    "basedir = '/home/erik/Riksarkivet/Projects/handwritten-text-recognition/raw/1930_census'\n",
    "ds_type = 'year'\n",
    "county = 'gotland'\n",
    "preproc = 'binarized'"
   ]
  },
  {
   "cell_type": "code",
   "execution_count": 6,
   "metadata": {},
   "outputs": [
    {
     "output_type": "stream",
     "name": "stdout",
     "text": [
      "21946\n2438\n/home/erik/Riksarkivet/Projects/handwritten-text-recognition/raw/1930_census/year/gotland/binarized/B0001097/B0001097_00454/B0001097_00454_41.jpg\n92\n"
     ]
    }
   ],
   "source": [
    "ds_path = os.path.join(basedir, ds_type, county, preproc, '**')\n",
    "\n",
    "partition = {\"train\": [], \"valid\": [], \"test\": []}\n",
    "\n",
    "headers = ['file_name', 'gt']\n",
    "gt_df = pd.read_csv('/home/erik/Riksarkivet/Projects/handwritten-text-recognition/raw/1930_census/year/gotland/B0001097_gt.txt', '\\t', names=headers, dtype=str, index_col=0) #inside the first loop\n",
    "\n",
    "batches = glob(ds_path)\n",
    "\n",
    "for batch in batches:\n",
    "    \n",
    "    pages = glob(os.path.join(batch, '**'))\n",
    "\n",
    "    for page in pages:\n",
    "        \n",
    "        imgs = glob(os.path.join(page, '**'))\n",
    "\n",
    "        for img in imgs:\n",
    "            \n",
    "            img_name = Path(img).name\n",
    "            gt = gt_df.loc[img_name].item()\n",
    "            \n",
    "            partition['train'].append([img, gt])\n",
    "\n",
    "\n",
    "#shuffle partition['train']\n",
    "\n",
    "sub_partition = int(len(partition['train']) * 0.1)\n",
    "partition['valid'] = partition['train'][:sub_partition]\n",
    "partition['train'] = partition['train'][sub_partition:]\n",
    "\n",
    "print(len(partition['train']))\n",
    "print(len(partition['valid']))\n",
    "for i in partition['train'][100]:\n",
    "    print(i)"
   ]
  },
  {
   "cell_type": "code",
   "execution_count": 3,
   "metadata": {},
   "outputs": [
    {
     "output_type": "stream",
     "name": "stdout",
     "text": [
      "B0001097\n"
     ]
    }
   ],
   "source": [
    "print(Path('/home/erik/Riksarkivet/Projects/handwritten-text-recognition/raw/1930_census/year/gotland/binarized/B0001097').name)"
   ]
  },
  {
   "cell_type": "code",
   "execution_count": null,
   "metadata": {},
   "outputs": [],
   "source": []
  }
 ]
}