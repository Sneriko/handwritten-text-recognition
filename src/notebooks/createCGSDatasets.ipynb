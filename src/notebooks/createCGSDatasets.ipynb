{
 "metadata": {
  "language_info": {
   "codemirror_mode": {
    "name": "ipython",
    "version": 3
   },
   "file_extension": ".py",
   "mimetype": "text/x-python",
   "name": "python",
   "nbconvert_exporter": "python",
   "pygments_lexer": "ipython3",
   "version": "3.8.5"
  },
  "orig_nbformat": 2,
  "kernelspec": {
   "name": "python3",
   "display_name": "Python 3",
   "language": "python"
  }
 },
 "nbformat": 4,
 "nbformat_minor": 2,
 "cells": [
  {
   "cell_type": "code",
   "execution_count": 1,
   "metadata": {},
   "outputs": [],
   "source": [
    "import os\n",
    "import cv2\n",
    "import pandas as pd\n",
    "import numpy as np\n",
    "from pathlib import Path\n",
    "import pickle\n",
    "import random"
   ]
  },
  {
   "cell_type": "code",
   "execution_count": 2,
   "metadata": {},
   "outputs": [
    {
     "output_type": "stream",
     "name": "stderr",
     "text": [
      "/home/erik/Riksarkivet/Projects/handwritten-text-recognition/.venv/lib/python3.8/site-packages/IPython/core/interactiveshell.py:3169: DtypeWarning: Columns (21,41,48,62,63,67,76,81) have mixed types.Specify dtype option on import or set low_memory=False.\n  has_raised = await self.run_ast_nodes(code_ast.body, cell_name,\n"
     ]
    }
   ],
   "source": [
    "database = pd.read_csv('../../data/1930_census/Gotland/Folkräkning_1930_Gotlands_län', '\\t')"
   ]
  },
  {
   "cell_type": "code",
   "execution_count": 3,
   "metadata": {},
   "outputs": [],
   "source": [
    "def filter_df(df, batch):\n",
    "\n",
    "    for name, cat_col in df.iteritems():\n",
    "\n",
    "        for i, cat in enumerate(cat_col):\n",
    "\n",
    "            row = i + 1\n",
    "\n",
    "            res = database.query('BILDID==@name & RAD==@row')\n",
    "\n",
    "            if (len(res) == 1 and int(res['FODAR'].item()) > 1911):\n",
    "                df.at[i, name] = 0\n",
    "\n",
    "    return df\n"
   ]
  },
  {
   "cell_type": "code",
   "execution_count": 4,
   "metadata": {},
   "outputs": [],
   "source": [
    "def write_dataset(filtered_df, composition_dict, ds_path):\n",
    "\n",
    "\n",
    "    written = {\n",
    "        'clean': 0,\n",
    "        'overwritten': 0,\n",
    "        'noise_under': 0,\n",
    "        'lines': 0,\n",
    "        'noise_left': 0,\n",
    "        'noise_over': 0,\n",
    "        'text_over': 0,\n",
    "        'stained': 0,\n",
    "        'noise_right': 0,\n",
    "        'faint_ink': 0\n",
    "    }\n",
    "\n",
    "    noisy_imgs = []\n",
    "    clean_imgs = []\n",
    "\n",
    "    for name, col in filtered_df.iteritems():\n",
    "        \n",
    "        for i, noise_cat in enumerate(col):\n",
    "            \n",
    "            paths = {\n",
    "                'read': '',\n",
    "                'write': ''\n",
    "            }\n",
    "            \n",
    "            paths['read'] = os.path.join('../../data/1930_census/Gotland/cyclegan/raw_data', name, 'name', str(i + 1) + '.jpg')\n",
    "            \n",
    "            if noise_cat == 0:\n",
    "                continue\n",
    "            elif noise_cat == 1 and written['clean'] < composition_dict['clean']:\n",
    "                paths['write'] = name + '_' + str(i + 1) + '.jpg'\n",
    "                clean_imgs.append(paths)\n",
    "                written['clean'] += 1\n",
    "            elif noise_cat == 2 and written['overwritten'] < composition_dict['overwritten']:\n",
    "                paths['write'] = name + '_' + str(i + 1) + '.jpg'     \n",
    "                noisy_imgs.append(paths)\n",
    "                written['overwritten'] += 1\n",
    "            elif noise_cat == 3 and written['noise_under'] < composition_dict['noise_under']:\n",
    "                paths['write'] = name + '_' + str(i + 1) + '.jpg'\n",
    "                noisy_imgs.append(paths)\n",
    "            elif noise_cat == 4 and written['lines'] < composition_dict['lines']:\n",
    "                paths['write'] = name + '_' + str(i + 1) + '.jpg'\n",
    "                noisy_imgs.append(paths)\n",
    "            elif noise_cat == 5 and written['noise_left'] < composition_dict['noise_left']:\n",
    "                paths['write'] = name + '_' + str(i + 1) + '.jpg'\n",
    "                noisy_imgs.append(paths)\n",
    "            elif noise_cat == 6 and written['noise_over'] < composition_dict['noise_over']:\n",
    "                paths['write'] = name + '_' + str(i + 1) + '.jpg'\n",
    "                noisy_imgs.append(paths)\n",
    "            elif noise_cat == 7 and written['text_over'] < composition_dict['text_over']:\n",
    "                paths['write'] = name + '_' + str(i + 1) + '.jpg'\n",
    "                noisy_imgs.append(paths)\n",
    "            elif noise_cat == 8 and written['stained'] < composition_dict['stained']:\n",
    "                paths['write'] = name + '_' + str(i + 1) + '.jpg'\n",
    "                noisy_imgs.append(paths)\n",
    "            elif noise_cat == 9 and written['noise_right'] < composition_dict['noise_right']:\n",
    "                paths['write'] = name + '_' + str(i + 1) + '.jpg'\n",
    "                noisy_imgs.append(paths)\n",
    "            elif noise_cat == 10 and written['faint_ink'] < composition_dict['faint_ink']:\n",
    "                paths['write'] = name + '_' + str(i + 1) + '.jpg'\n",
    "                noisy_imgs.append(paths)\n",
    "\n",
    "    random.shuffle(clean_imgs)\n",
    "    random.shuffle(noisy_imgs)\n",
    "    print(len(clean_imgs))\n",
    "    print(len(noisy_imgs))\n",
    "    \n",
    "    for i, p in enumerate(zip(clean_imgs, noisy_imgs)):\n",
    "        \n",
    "        if i < 7:\n",
    "            \n",
    "            write_path_clean = os.path.join(ds_path, 'testB', p[0]['write'])\n",
    "            write_path_noisy = os.path.join(ds_path, 'testA', p[1]['write'])\n",
    "            \n",
    "            img_clean = cv2.imread(p[0]['read'], cv2.IMREAD_GRAYSCALE)\n",
    "            #ret, img_clean_bin = cv2.threshold(img_clean,150,255,cv2.THRESH_BINARY)\n",
    "\n",
    "            img_noisy = cv2.imread(p[1]['read'], cv2.IMREAD_GRAYSCALE)\n",
    "\n",
    "            \n",
    "            cv2.imwrite(write_path_clean, img_clean)\n",
    "            cv2.imwrite(write_path_noisy, img_noisy)\n",
    "\n",
    "            print('hej')\n",
    "            \n",
    "\n",
    "        else:\n",
    "\n",
    "            write_path_clean = os.path.join(ds_path, 'trainB', p[0]['write'])\n",
    "            write_path_noisy = os.path.join(ds_path, 'trainA', p[1]['write'])\n",
    "\n",
    "            img_clean = cv2.imread(p[0]['read'], cv2.IMREAD_GRAYSCALE)\n",
    "            #ret, img_clean_bin = cv2.threshold(img_clean,150,255,cv2.THRESH_BINARY)\n",
    "\n",
    "            img_noisy = cv2.imread(p[1]['read'], cv2.IMREAD_GRAYSCALE)\n",
    "\n",
    "            \n",
    "            try:\n",
    "                cv2.imwrite(write_path_clean, img_clean)\n",
    "                cv2.imwrite(write_path_noisy, img_noisy)\n",
    "            except:\n",
    "                print(p[1]['read'])\n",
    "            \n",
    "            #write noisy and clean to testA, testB\n",
    "\n",
    "        #write rest to trainA, trainB\n",
    "\n",
    "    "
   ]
  },
  {
   "cell_type": "code",
   "execution_count": 5,
   "metadata": {},
   "outputs": [],
   "source": [
    "df = pd.read_excel('../../data/1930_census/Gotland/cyclegan/cycleGAN_ds_B0001097_and_B0001480.xlsx', header=0)\n",
    "\n",
    "#df = filter_df(df, 'B0001097')\n",
    "\n"
   ]
  },
  {
   "cell_type": "code",
   "execution_count": 6,
   "metadata": {
    "tags": []
   },
   "outputs": [
    {
     "output_type": "stream",
     "name": "stdout",
     "text": [
      "641\n641\nhej\nhej\nhej\nhej\nhej\nhej\nhej\n"
     ]
    }
   ],
   "source": [
    "composition = {\n",
    "    'clean': 641,\n",
    "    'overwritten': 641,\n",
    "    'noise_under': 0,\n",
    "    'lines': 0,\n",
    "    'noise_left': 0,\n",
    "    'noise_over': 0,\n",
    "    'text_over': 0,\n",
    "    'stained': 0,\n",
    "    'noise_right': 0,\n",
    "    'faint_ink': 0\n",
    "}\n",
    "\n",
    "x = write_dataset(df, composition, '../../data/1930_census/Gotland/cyclegan/cyclegan_datasets/only_overwritten')"
   ]
  },
  {
   "cell_type": "code",
   "execution_count": 19,
   "metadata": {},
   "outputs": [],
   "source": [
    "#done with filter df, now check how many clean I got, and then continue with note\n",
    "\n",
    "cat_count = {\n",
    "    'no_cat': 0,\n",
    "    'clean': 0,\n",
    "    'overwritten': 0,\n",
    "    'noise_under': 0,\n",
    "    'lines': 0,\n",
    "    'noise_left': 0,\n",
    "    'noise_over': 0,\n",
    "    'text_over': 0,\n",
    "    'stained': 0,\n",
    "    'noise_right': 0,\n",
    "    'faint_ink': 0\n",
    "}\n",
    "\n",
    "\n",
    "for name, cat_col in df.iteritems():\n",
    "    for cat in cat_col:\n",
    "        if cat == 0:\n",
    "            cat_count['no_cat'] += 1\n",
    "        elif cat == 1:\n",
    "            cat_count['clean'] += 1\n",
    "        elif cat == 2:\n",
    "            cat_count['overwritten'] += 1\n",
    "        elif cat == 3:\n",
    "            cat_count['noise_under'] += 1\n",
    "        elif cat == 4:\n",
    "            cat_count['lines'] += 1\n",
    "        elif cat == 5:\n",
    "            cat_count['noise_left'] += 1\n",
    "        elif cat == 6:\n",
    "            cat_count['noise_over'] += 1\n",
    "        elif cat == 7:\n",
    "            cat_count['text_over'] += 1\n",
    "        elif cat == 8:\n",
    "            cat_count['stained'] += 1\n",
    "        elif cat == 9:\n",
    "            cat_count['noise_right'] += 1\n",
    "        elif cat == 10:\n",
    "            cat_count['faint_ink'] += 1    \n",
    "\n",
    "\n",
    "\n",
    "\n"
   ]
  },
  {
   "cell_type": "code",
   "execution_count": 11,
   "metadata": {},
   "outputs": [],
   "source": [
    "epoch = 830\n",
    "s = 'epoch%d' % epoch"
   ]
  },
  {
   "cell_type": "code",
   "execution_count": 12,
   "metadata": {},
   "outputs": [
    {
     "output_type": "execute_result",
     "data": {
      "text/plain": [
       "'epoch830'"
      ]
     },
     "metadata": {},
     "execution_count": 12
    }
   ],
   "source": [
    "s"
   ]
  },
  {
   "cell_type": "code",
   "execution_count": null,
   "metadata": {},
   "outputs": [],
   "source": []
  }
 ]
}