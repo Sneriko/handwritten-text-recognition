{
 "metadata": {
  "language_info": {
   "codemirror_mode": {
    "name": "ipython",
    "version": 3
   },
   "file_extension": ".py",
   "mimetype": "text/x-python",
   "name": "python",
   "nbconvert_exporter": "python",
   "pygments_lexer": "ipython3",
   "version": "3.8.5"
  },
  "orig_nbformat": 2,
  "kernelspec": {
   "name": "pythonjvsc74a57bd071f3d0049937cc818ce2f9b352ba946595cd1ac61856b9bde9007f94463dcc87",
   "display_name": "Python 3.8.5 64-bit ('.venv': venv)"
  },
  "metadata": {
   "interpreter": {
    "hash": "71f3d0049937cc818ce2f9b352ba946595cd1ac61856b9bde9007f94463dcc87"
   }
  }
 },
 "nbformat": 4,
 "nbformat_minor": 2,
 "cells": [
  {
   "cell_type": "code",
   "execution_count": 4,
   "metadata": {},
   "outputs": [],
   "source": [
    "import tensorflow as tf\n",
    "import cv2\n",
    "import numpy as np\n",
    "import multiprocessing\n",
    "from functools import partial\n",
    "import itertools\n",
    "\n",
    "from data import preproc as pp, evaluation\n",
    "from data.generator import DataGenerator, Tokenizer\n",
    "from data.reader import Dataset\n",
    "from network.model import HTRModel"
   ]
  },
  {
   "cell_type": "code",
   "execution_count": 2,
   "metadata": {},
   "outputs": [],
   "source": [
    "def next_batch(imgs, batch_size):\n",
    "    \"\"\"Return model predict parameters\"\"\"\n",
    "\n",
    "    index = 0\n",
    "\n",
    "    while True:\n",
    "        if index >= len(imgs):\n",
    "            index = 0\n",
    "            break\n",
    "\n",
    "        index_temp = index\n",
    "        until = index_temp + batch_size\n",
    "        index = until\n",
    "\n",
    "        x_test = imgs[index_temp:until]\n",
    "        x_test = pp.normalization(x_test)\n",
    "\n",
    "        yield x_test"
   ]
  },
  {
   "cell_type": "code",
   "execution_count": 8,
   "metadata": {},
   "outputs": [],
   "source": [
    "input_size = (1024, 128, 1)\n",
    "max_text_length = 128\n",
    "charset_base = '0123456789abcdefghijklmnopqrstuvwxyzåäöABCDEFGHIJKLMNOPQRSTUVWXYZÅÄÖ-., :'\n",
    "\n",
    "#'0123456789abcdefghijklmnopqrstuvwxyzåäöABCDEFGHIJKLMNOPQRSTUVWXYZÅÄÖ!\"#$%&\\'()*+,-./:;<=>?@[\\\\]^_`{|}~¬ '\n",
    "\n",
    "tokenizer = Tokenizer(chars=charset_base, max_text_length=max_text_length)\n",
    "\n",
    "\"\"\"dtgen = DataGenerator(source=source_path,\n",
    "                     batch_size=16,\n",
    "                     charset=charset_base,\n",
    "                     max_text_length=max_text_length,\n",
    "                     predict=True)\"\"\"\n",
    "\n",
    "model = HTRModel(architecture='flor',\n",
    "                input_size=input_size,\n",
    "                vocab_size=tokenizer.vocab_size,\n",
    "                beam_width=10,\n",
    "                top_paths=10)\n",
    "\n",
    "model.compile(learning_rate=0.001)\n",
    "model.load_checkpoint(target='/home/erik/Riksarkivet/Projects/handwritten-text-recognition/output/1930_census_name_gotland_original_hdsr14_car_a_hdsr14_car_b_hdsr14_cvl_iam/flor/checkpoint_weights.hdf5')"
   ]
  },
  {
   "cell_type": "code",
   "execution_count": 10,
   "metadata": {},
   "outputs": [
    {
     "output_type": "stream",
     "name": "stderr",
     "text": [
      "2021-09-13 08:45:16.313041: I tensorflow/stream_executor/platform/default/dso_loader.cc:49] Successfully opened dynamic library libcublas.so.11\n",
      "2021-09-13 08:45:16.805047: I tensorflow/stream_executor/platform/default/dso_loader.cc:49] Successfully opened dynamic library libcublasLt.so.11\n",
      "2021-09-13 08:45:16.807087: I tensorflow/stream_executor/platform/default/dso_loader.cc:49] Successfully opened dynamic library libcudnn.so.8\n"
     ]
    }
   ],
   "source": [
    "img = pp.preprocess('/home/erik/Riksarkivet/Projects/handwritten-text-recognition/00000016-main-per_reg_nr_5-PrsNr_2.jpg', input_size=input_size, binarize=False)\n",
    "\n",
    "x_test = pp.normalization([img])\n",
    "\n",
    "with tf.device('/gpu:0'):\n",
    "    predicts, probabilities = model.predict(x=x_test, ctc_decode=True)\n",
    "    predicts = [[tokenizer.decode(x) for x in y] for y in predicts]"
   ]
  },
  {
   "cell_type": "code",
   "execution_count": 5,
   "metadata": {},
   "outputs": [
    {
     "output_type": "stream",
     "name": "stdout",
     "text": [
      "1\n",
      "2\n",
      "3\n",
      "4\n",
      "5\n",
      "6\n",
      "7\n",
      "8\n",
      "9\n",
      "10\n",
      "11\n",
      "12\n",
      "115\n",
      "2021-09-03 10:00:23.895118: I tensorflow/compiler/mlir/mlir_graph_optimization_pass.cc:116] None of the MLIR optimization passes are enabled (registered 2)\n",
      "2021-09-03 10:00:23.915037: I tensorflow/core/platform/profile_utils/cpu_utils.cc:112] CPU Frequency: 3699850000 Hz\n",
      "/home/erik/Riksarkivet/Projects/AIRAII/.venv/lib/python3.8/site-packages/numpy/core/_asarray.py:83: VisibleDeprecationWarning: Creating an ndarray from ragged nested sequences (which is a list-or-tuple of lists-or-tuples-or ndarrays with different lengths or shapes) is deprecated. If you meant to do this, you must specify 'dtype=object' when creating the ndarray\n",
      "  return array(a, dtype, copy=False, order=order)\n",
      "CPU times: user 23.3 s, sys: 3.61 s, total: 26.9 s\n",
      "Wall time: 13.9 s\n"
     ]
    }
   ],
   "source": [
    "%%time\n",
    "\n",
    "batch_path = '/home/erik/Riksarkivet/Projects/AIRAII/data/batches_raw/Struktur_exempel_v2'\n",
    "\n",
    "read = Reader(batch_path)\n",
    "\n",
    "batch = read.read_raw_batch()\n",
    "\n",
    "persons = dict()\n",
    "\n",
    "i = 0\n",
    "\n",
    "imgs = []\n",
    "imgs_pp = []\n",
    "imgs_ppp = []\n",
    "\n",
    "input_size = (1024, 128, 1)\n",
    "\n",
    "for person_key in batch['00000016']:\n",
    "\n",
    "    \n",
    "\n",
    "    fields = dict()\n",
    "    \n",
    "    for field_key in batch['00000016'][person_key]:\n",
    "\n",
    "        results_for_field = []\n",
    "\n",
    "        #print(batch['00000016'][person_key][field_key])\n",
    "\n",
    "        #print('efter')\n",
    "            \n",
    "        for img in batch['00000016'][person_key][field_key]:\n",
    "    \n",
    "            \n",
    "\n",
    "            #img = pp.preprocess(img, input_size=input_size, binarize=True)\n",
    "            #x_test = pp.normalization([img])\n",
    "            imgs.append(img)\n",
    "\n",
    "            #predicts, probabilities = model.predict(x_test, ctc_decode=True)\n",
    "            #predicts = [[tokenizer.decode(x) for x in y] for y in predicts]\n",
    "\n",
    "    i += 1\n",
    "\n",
    "    print(i)\n",
    "\n",
    "\n",
    "\n",
    "batch_size = 64\n",
    "\n",
    "for b in range(0, len(imgs), batch_size):\n",
    "\n",
    "    with multiprocessing.Pool(multiprocessing.cpu_count()) as pool:\n",
    "        r = pool.map(partial(pp.preprocess, input_size=input_size, binarize=bin),\n",
    "                        imgs[b:b + batch_size])\n",
    "        imgs_pp.append(r)\n",
    "        pool.close()\n",
    "        pool.join()\n",
    "\n",
    "flatten = [j for sub in imgs_pp for j in sub]\n",
    "print(len(flatten))\n",
    "steps = int(np.ceil(len(imgs) / 16))\n",
    "\n",
    "#print(imgs[0])\n",
    "\n",
    "x_test = pp.normalization(flatten)\n",
    "with tf.device('/cpu:0'):\n",
    "    predicts, probabilities = model.predict(x=x_test, steps=steps ,ctc_decode=True)\n",
    "    predicts = [[tokenizer.decode(x) for x in y] for y in predicts]\n"
   ]
  },
  {
   "cell_type": "code",
   "execution_count": 6,
   "metadata": {},
   "outputs": [],
   "source": [
    "assert len(imgs) == len(predicts)\n",
    "\n"
   ]
  },
  {
   "cell_type": "code",
   "execution_count": 8,
   "metadata": {},
   "outputs": [
    {
     "output_type": "stream",
     "name": "stdout",
     "text": [
      "/home/erik/Riksarkivet/Projects/AIRAII/data/Struktur_exempel_v2/00000016/father/PrsNr/PrsNr_4.jpg\n"
     ]
    }
   ],
   "source": [
    "print(imgs[31])"
   ]
  },
  {
   "cell_type": "code",
   "execution_count": 19,
   "metadata": {},
   "outputs": [
    {
     "output_type": "stream",
     "name": "stdout",
     "text": [
      "16\n16\n16\n16\n16\n5\n"
     ]
    }
   ],
   "source": [
    "x = next_batch(imgs, 16)\n",
    "for w in x:\n",
    "    print(len(w))"
   ]
  },
  {
   "cell_type": "code",
   "execution_count": 2,
   "metadata": {},
   "outputs": [
    {
     "output_type": "stream",
     "name": "stderr",
     "text": [
      "/home/erik/Riksarkivet/Projects/AIRAII/.venv/lib/python3.8/site-packages/torch/nn/functional.py:718: UserWarning: Named tensors and all their associated APIs are an experimental feature and subject to change. Please do not use them for anything important until they are released as stable. (Triggered internally at  /pytorch/c10/core/TensorImpl.h:1156.)\n",
      "  return torch.max_pool2d(input, kernel_size, stride, padding, dilation, ceil_mode)\n",
      "[([[17, 67], [131, 67], [131, 128], [17, 128]], '39k', 0.10304374259132221)]\n"
     ]
    }
   ],
   "source": [
    "import cv2\n",
    "import easyocr\n",
    "\n",
    "input_size = (1024, 128, 1)\n",
    "\n",
    "img = pp.preprocess('/home/erik/Riksarkivet/Projects/AIRAII/data/Struktur_exempel_v2/00000010/child2/PrsNr/PrsNr_4.jpg', input_size=input_size, binarize=True)\n",
    "\n",
    "reader = easyocr.Reader(['en'], gpu=False)\n",
    "\n",
    "#img = cv2.imread('/home/erik/Riksarkivet/Projects/AIRAII/data/Struktur_exempel_v2/00000010/child2/PrsNr/PrsNr_4.jpg')\n",
    "\n",
    "result_easyocr = reader.readtext(img)\n",
    "\n",
    "print(result_easyocr)"
   ]
  },
  {
   "cell_type": "code",
   "execution_count": 16,
   "metadata": {},
   "outputs": [
    {
     "output_type": "stream",
     "name": "stderr",
     "text": [
      "/home/erik/Riksarkivet/Projects/AIRAII/.venv/lib/python3.8/site-packages/torch/nn/functional.py:718: UserWarning: Named tensors and all their associated APIs are an experimental feature and subject to change. Please do not use them for anything important until they are released as stable. (Triggered internally at  /pytorch/c10/core/TensorImpl.h:1156.)\n  return torch.max_pool2d(input, kernel_size, stride, padding, dilation, ceil_mode)\n"
     ]
    }
   ],
   "source": [
    "import easyocr\n",
    "\n",
    "reader = easyocr.Reader(['en'], gpu=False)\n",
    "\n",
    "result_easyocr = reader.readtext(img)   \n",
    "\n",
    "print(result_easyocr)"
   ]
  },
  {
   "cell_type": "code",
   "execution_count": 7,
   "metadata": {},
   "outputs": [
    {
     "output_type": "stream",
     "name": "stdout",
     "text": [
      "69\t/home/erik/Riksarkivet/Projects/AIRAII/data/Struktur_exempel_v2/00000016/child5/FodelseOrt/FodelseOrt.jpg\n69\t/home/erik/Riksarkivet/Projects/AIRAII/data/Struktur_exempel_v2/00000016/child5/PrsNr/PrsNr_1.jpg\n69\t/home/erik/Riksarkivet/Projects/AIRAII/data/Struktur_exempel_v2/00000016/child5/PrsNr/PrsNr_2.jpg\n69\t/home/erik/Riksarkivet/Projects/AIRAII/data/Struktur_exempel_v2/00000016/child5/PrsNr/PrsNr_3.jpg\n69\t/home/erik/Riksarkivet/Projects/AIRAII/data/Struktur_exempel_v2/00000016/child5/PrsNr/PrsNr_4.jpg\n90\t/home/erik/Riksarkivet/Projects/AIRAII/data/Struktur_exempel_v2/00000016/child5/AndraForalderNamn/AndraForalderNamn.jpg\n69\t/home/erik/Riksarkivet/Projects/AIRAII/data/Struktur_exempel_v2/00000016/spouse2/EFNamn_FodelseOrt/EFNamn_FodelseOrt_rad_1.jpg\n69\t/home/erik/Riksarkivet/Projects/AIRAII/data/Struktur_exempel_v2/00000016/spouse2/EFNamn_FodelseOrt/EFNamn_FodelseOrt_rad_2.jpg\n69\t/home/erik/Riksarkivet/Projects/AIRAII/data/Struktur_exempel_v2/00000016/spouse2/EFNamn_FodelseOrt/EFNamn_FodelseOrt_rad_1.jpg\n69\t/home/erik/Riksarkivet/Projects/AIRAII/data/Struktur_exempel_v2/00000016/spouse2/EFNamn_FodelseOrt/EFNamn_FodelseOrt_rad_2.jpg\n69\t/home/erik/Riksarkivet/Projects/AIRAII/data/Struktur_exempel_v2/00000016/spouse2/PrsNr/PrsNr_1.jpg\n69\t/home/erik/Riksarkivet/Projects/AIRAII/data/Struktur_exempel_v2/00000016/spouse2/PrsNr/PrsNr_2.jpg\n69\t/home/erik/Riksarkivet/Projects/AIRAII/data/Struktur_exempel_v2/00000016/spouse2/PrsNr/PrsNr_3.jpg\n9\t/home/erik/Riksarkivet/Projects/AIRAII/data/Struktur_exempel_v2/00000016/spouse2/PrsNr/PrsNr_4.jpg\n60000\t/home/erik/Riksarkivet/Projects/AIRAII/data/Struktur_exempel_v2/00000016/child1/FodelseOrt/FodelseOrt.jpg\n62\t/home/erik/Riksarkivet/Projects/AIRAII/data/Struktur_exempel_v2/00000016/child1/PrsNr/PrsNr_1.jpg\n0\t/home/erik/Riksarkivet/Projects/AIRAII/data/Struktur_exempel_v2/00000016/child1/PrsNr/PrsNr_2.jpg\n2\t/home/erik/Riksarkivet/Projects/AIRAII/data/Struktur_exempel_v2/00000016/child1/PrsNr/PrsNr_3.jpg\n300\t/home/erik/Riksarkivet/Projects/AIRAII/data/Struktur_exempel_v2/00000016/child1/PrsNr/PrsNr_4.jpg\n207\t/home/erik/Riksarkivet/Projects/AIRAII/data/Struktur_exempel_v2/00000016/child1/AndraForalderNamn/AndraForalderNamn.jpg\n12000\t/home/erik/Riksarkivet/Projects/AIRAII/data/Struktur_exempel_v2/00000016/child3/FodelseOrt/FodelseOrt.jpg\n6\t/home/erik/Riksarkivet/Projects/AIRAII/data/Struktur_exempel_v2/00000016/child3/PrsNr/PrsNr_1.jpg\n0\t/home/erik/Riksarkivet/Projects/AIRAII/data/Struktur_exempel_v2/00000016/child3/PrsNr/PrsNr_2.jpg\n1\t/home/erik/Riksarkivet/Projects/AIRAII/data/Struktur_exempel_v2/00000016/child3/PrsNr/PrsNr_3.jpg\n21\t/home/erik/Riksarkivet/Projects/AIRAII/data/Struktur_exempel_v2/00000016/child3/PrsNr/PrsNr_4.jpg\n807\t/home/erik/Riksarkivet/Projects/AIRAII/data/Struktur_exempel_v2/00000016/child3/AndraForalderNamn/AndraForalderNamn.jpg\n940\t/home/erik/Riksarkivet/Projects/AIRAII/data/Struktur_exempel_v2/00000016/father/EFNamn_FodelseOrt/EFNamn_FodelseOrt.jpg\n940\t/home/erik/Riksarkivet/Projects/AIRAII/data/Struktur_exempel_v2/00000016/father/EFNamn_FodelseOrt/EFNamn_FodelseOrt.jpg\n00\t/home/erik/Riksarkivet/Projects/AIRAII/data/Struktur_exempel_v2/00000016/father/PrsNr/PrsNr_1.jpg\n05\t/home/erik/Riksarkivet/Projects/AIRAII/data/Struktur_exempel_v2/00000016/father/PrsNr/PrsNr_2.jpg\n27\t/home/erik/Riksarkivet/Projects/AIRAII/data/Struktur_exempel_v2/00000016/father/PrsNr/PrsNr_3.jpg\n321\t/home/erik/Riksarkivet/Projects/AIRAII/data/Struktur_exempel_v2/00000016/father/PrsNr/PrsNr_4.jpg\n9050\t/home/erik/Riksarkivet/Projects/AIRAII/data/Struktur_exempel_v2/00000016/spouse1/EFNamn_FodelseOrt/EFNamn_FodelseOrt.jpg\n6080\t/home/erik/Riksarkivet/Projects/AIRAII/data/Struktur_exempel_v2/00000016/spouse1/EFNamn_FodelseOrt/EFNamn_FodelseOrt_rad_1.jpg\n69\t/home/erik/Riksarkivet/Projects/AIRAII/data/Struktur_exempel_v2/00000016/spouse1/EFNamn_FodelseOrt/EFNamn_FodelseOrt_rad_2.jpg\n9050\t/home/erik/Riksarkivet/Projects/AIRAII/data/Struktur_exempel_v2/00000016/spouse1/EFNamn_FodelseOrt/EFNamn_FodelseOrt.jpg\n6080\t/home/erik/Riksarkivet/Projects/AIRAII/data/Struktur_exempel_v2/00000016/spouse1/EFNamn_FodelseOrt/EFNamn_FodelseOrt_rad_1.jpg\n69\t/home/erik/Riksarkivet/Projects/AIRAII/data/Struktur_exempel_v2/00000016/spouse1/EFNamn_FodelseOrt/EFNamn_FodelseOrt_rad_2.jpg\n14\t/home/erik/Riksarkivet/Projects/AIRAII/data/Struktur_exempel_v2/00000016/spouse1/PrsNr/PrsNr_1.jpg\n09\t/home/erik/Riksarkivet/Projects/AIRAII/data/Struktur_exempel_v2/00000016/spouse1/PrsNr/PrsNr_2.jpg\n0\t/home/erik/Riksarkivet/Projects/AIRAII/data/Struktur_exempel_v2/00000016/spouse1/PrsNr/PrsNr_3.jpg\n50\t/home/erik/Riksarkivet/Projects/AIRAII/data/Struktur_exempel_v2/00000016/spouse1/PrsNr/PrsNr_4.jpg\n940\t/home/erik/Riksarkivet/Projects/AIRAII/data/Struktur_exempel_v2/00000016/main/FodelseOrt/FodelseOrt.jpg\n00\t/home/erik/Riksarkivet/Projects/AIRAII/data/Struktur_exempel_v2/00000016/main/FodelseOrt/FodelseOrt_Ovre.jpg\n2000030\t/home/erik/Riksarkivet/Projects/AIRAII/data/Struktur_exempel_v2/00000016/main/PrsNrOvre/PrsNrOvre.jpg\n1929\t/home/erik/Riksarkivet/Projects/AIRAII/data/Struktur_exempel_v2/00000016/main/PrsNr/PrsNr_1.jpg\n5004\t/home/erik/Riksarkivet/Projects/AIRAII/data/Struktur_exempel_v2/00000016/main/PrsNr/PrsNr_2.jpg\n6\t/home/erik/Riksarkivet/Projects/AIRAII/data/Struktur_exempel_v2/00000016/main/PrsNr/PrsNr_3.jpg\n324\t/home/erik/Riksarkivet/Projects/AIRAII/data/Struktur_exempel_v2/00000016/main/PrsNr/PrsNr_4.jpg\n3218\t/home/erik/Riksarkivet/Projects/AIRAII/data/Struktur_exempel_v2/00000016/main/PrsNr/PrsNr_5.jpg\n51\t/home/erik/Riksarkivet/Projects/AIRAII/data/Struktur_exempel_v2/00000016/main/Namn/Efternamn.jpg\n50\t/home/erik/Riksarkivet/Projects/AIRAII/data/Struktur_exempel_v2/00000016/main/Namn/Fornamn.jpg\n005050\t/home/erik/Riksarkivet/Projects/AIRAII/data/Struktur_exempel_v2/00000016/main/Namn/Namn.jpg\n101001\t/home/erik/Riksarkivet/Projects/AIRAII/data/Struktur_exempel_v2/00000016/child2/FodelseOrt/FodelseOrt.jpg\n62\t/home/erik/Riksarkivet/Projects/AIRAII/data/Struktur_exempel_v2/00000016/child2/PrsNr/PrsNr_1.jpg\n0\t/home/erik/Riksarkivet/Projects/AIRAII/data/Struktur_exempel_v2/00000016/child2/PrsNr/PrsNr_2.jpg\n26\t/home/erik/Riksarkivet/Projects/AIRAII/data/Struktur_exempel_v2/00000016/child2/PrsNr/PrsNr_3.jpg\n0\t/home/erik/Riksarkivet/Projects/AIRAII/data/Struktur_exempel_v2/00000016/child2/PrsNr/PrsNr_4.jpg\n29\t/home/erik/Riksarkivet/Projects/AIRAII/data/Struktur_exempel_v2/00000016/child2/AndraForalderNamn/AndraForalderNamn.jpg\n94010\t/home/erik/Riksarkivet/Projects/AIRAII/data/Struktur_exempel_v2/00000016/mother/EFNamn_FodelseOrt/EFNamn_FodelseOrt.jpg\n94010\t/home/erik/Riksarkivet/Projects/AIRAII/data/Struktur_exempel_v2/00000016/mother/EFNamn_FodelseOrt/EFNamn_FodelseOrt.jpg\n05\t/home/erik/Riksarkivet/Projects/AIRAII/data/Struktur_exempel_v2/00000016/mother/PrsNr/PrsNr_1.jpg\n11\t/home/erik/Riksarkivet/Projects/AIRAII/data/Struktur_exempel_v2/00000016/mother/PrsNr/PrsNr_2.jpg\n18\t/home/erik/Riksarkivet/Projects/AIRAII/data/Struktur_exempel_v2/00000016/mother/PrsNr/PrsNr_3.jpg\n320\t/home/erik/Riksarkivet/Projects/AIRAII/data/Struktur_exempel_v2/00000016/mother/PrsNr/PrsNr_4.jpg\n69\t/home/erik/Riksarkivet/Projects/AIRAII/data/Struktur_exempel_v2/00000016/spouse3/EFNamn_FodelseOrt/EFNamn_FodelseOrt_rad_1.jpg\n69\t/home/erik/Riksarkivet/Projects/AIRAII/data/Struktur_exempel_v2/00000016/spouse3/EFNamn_FodelseOrt/EFNamn_FodelseOrt_rad_2.jpg\n69\t/home/erik/Riksarkivet/Projects/AIRAII/data/Struktur_exempel_v2/00000016/spouse3/EFNamn_FodelseOrt/EFNamn_FodelseOrt_rad_1.jpg\n69\t/home/erik/Riksarkivet/Projects/AIRAII/data/Struktur_exempel_v2/00000016/spouse3/EFNamn_FodelseOrt/EFNamn_FodelseOrt_rad_2.jpg\n69\t/home/erik/Riksarkivet/Projects/AIRAII/data/Struktur_exempel_v2/00000016/spouse3/PrsNr/PrsNr_1.jpg\n69\t/home/erik/Riksarkivet/Projects/AIRAII/data/Struktur_exempel_v2/00000016/spouse3/PrsNr/PrsNr_2.jpg\n69\t/home/erik/Riksarkivet/Projects/AIRAII/data/Struktur_exempel_v2/00000016/spouse3/PrsNr/PrsNr_3.jpg\n69\t/home/erik/Riksarkivet/Projects/AIRAII/data/Struktur_exempel_v2/00000016/spouse3/PrsNr/PrsNr_4.jpg\n69\t/home/erik/Riksarkivet/Projects/AIRAII/data/Struktur_exempel_v2/00000016/child6/FodelseOrt/FodelseOrt.jpg\n69\t/home/erik/Riksarkivet/Projects/AIRAII/data/Struktur_exempel_v2/00000016/child6/PrsNr/PrsNr_1.jpg\n69\t/home/erik/Riksarkivet/Projects/AIRAII/data/Struktur_exempel_v2/00000016/child6/PrsNr/PrsNr_2.jpg\n69\t/home/erik/Riksarkivet/Projects/AIRAII/data/Struktur_exempel_v2/00000016/child6/PrsNr/PrsNr_3.jpg\n69\t/home/erik/Riksarkivet/Projects/AIRAII/data/Struktur_exempel_v2/00000016/child6/PrsNr/PrsNr_4.jpg\n940\t/home/erik/Riksarkivet/Projects/AIRAII/data/Struktur_exempel_v2/00000016/child6/AndraForalderNamn/AndraForalderNamn.jpg\n20010\t/home/erik/Riksarkivet/Projects/AIRAII/data/Struktur_exempel_v2/00000016/child4/FodelseOrt/FodelseOrt.jpg\n76\t/home/erik/Riksarkivet/Projects/AIRAII/data/Struktur_exempel_v2/00000016/child4/PrsNr/PrsNr_1.jpg\n02\t/home/erik/Riksarkivet/Projects/AIRAII/data/Struktur_exempel_v2/00000016/child4/PrsNr/PrsNr_2.jpg\n11\t/home/erik/Riksarkivet/Projects/AIRAII/data/Struktur_exempel_v2/00000016/child4/PrsNr/PrsNr_3.jpg\n24\t/home/erik/Riksarkivet/Projects/AIRAII/data/Struktur_exempel_v2/00000016/child4/PrsNr/PrsNr_4.jpg\n807\t/home/erik/Riksarkivet/Projects/AIRAII/data/Struktur_exempel_v2/00000016/child4/AndraForalderNamn/AndraForalderNamn.jpg\n"
     ]
    }
   ],
   "source": [
    "for pred, path in zip(predicts, imgs):\n",
    "    print(str(pred[0]) + '\\t' + path)"
   ]
  },
  {
   "cell_type": "code",
   "execution_count": null,
   "metadata": {},
   "outputs": [],
   "source": []
  }
 ]
}